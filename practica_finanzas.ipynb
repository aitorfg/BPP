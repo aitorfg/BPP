{
 "cells": [
  {
   "cell_type": "code",
   "execution_count": 4,
   "id": "1aea2e91",
   "metadata": {},
   "outputs": [
    {
     "data": {
      "text/html": [
       "<div>\n",
       "<style scoped>\n",
       "    .dataframe tbody tr th:only-of-type {\n",
       "        vertical-align: middle;\n",
       "    }\n",
       "\n",
       "    .dataframe tbody tr th {\n",
       "        vertical-align: top;\n",
       "    }\n",
       "\n",
       "    .dataframe thead th {\n",
       "        text-align: right;\n",
       "    }\n",
       "</style>\n",
       "<table border=\"1\" class=\"dataframe\">\n",
       "  <thead>\n",
       "    <tr style=\"text-align: right;\">\n",
       "      <th></th>\n",
       "      <th>Enero</th>\n",
       "      <th>Febrero</th>\n",
       "      <th>Marzo</th>\n",
       "      <th>Abril</th>\n",
       "      <th>Mayo</th>\n",
       "      <th>Junio</th>\n",
       "      <th>Julio</th>\n",
       "      <th>Agosto</th>\n",
       "      <th>Septiembre</th>\n",
       "      <th>Octubre</th>\n",
       "      <th>Noviembre</th>\n",
       "      <th>Diciembre</th>\n",
       "    </tr>\n",
       "  </thead>\n",
       "  <tbody>\n",
       "    <tr>\n",
       "      <th>0</th>\n",
       "      <td>-760</td>\n",
       "      <td>343</td>\n",
       "      <td>265</td>\n",
       "      <td>-624</td>\n",
       "      <td>-390</td>\n",
       "      <td>-796</td>\n",
       "      <td>601</td>\n",
       "      <td>-780</td>\n",
       "      <td>-491</td>\n",
       "      <td>645</td>\n",
       "      <td>-248</td>\n",
       "      <td>714</td>\n",
       "    </tr>\n",
       "    <tr>\n",
       "      <th>1</th>\n",
       "      <td>223</td>\n",
       "      <td>491</td>\n",
       "      <td>-397</td>\n",
       "      <td>-123</td>\n",
       "      <td>6</td>\n",
       "      <td>-115</td>\n",
       "      <td>157</td>\n",
       "      <td>-741</td>\n",
       "      <td>-951</td>\n",
       "      <td>267</td>\n",
       "      <td>14</td>\n",
       "      <td>-596</td>\n",
       "    </tr>\n",
       "    <tr>\n",
       "      <th>2</th>\n",
       "      <td>-872</td>\n",
       "      <td>-913</td>\n",
       "      <td>558</td>\n",
       "      <td>278</td>\n",
       "      <td>544</td>\n",
       "      <td>-223</td>\n",
       "      <td>607</td>\n",
       "      <td>-113</td>\n",
       "      <td>348</td>\n",
       "      <td>576</td>\n",
       "      <td>-977</td>\n",
       "      <td>195</td>\n",
       "    </tr>\n",
       "    <tr>\n",
       "      <th>3</th>\n",
       "      <td>111</td>\n",
       "      <td>-842</td>\n",
       "      <td>730</td>\n",
       "      <td>-761</td>\n",
       "      <td>158</td>\n",
       "      <td>-963</td>\n",
       "      <td>-290</td>\n",
       "      <td>-669</td>\n",
       "      <td>191</td>\n",
       "      <td>130</td>\n",
       "      <td>170</td>\n",
       "      <td>-274</td>\n",
       "    </tr>\n",
       "    <tr>\n",
       "      <th>4</th>\n",
       "      <td>919</td>\n",
       "      <td>111</td>\n",
       "      <td>-688</td>\n",
       "      <td>15</td>\n",
       "      <td>395</td>\n",
       "      <td>9</td>\n",
       "      <td>553</td>\n",
       "      <td>297</td>\n",
       "      <td>-302</td>\n",
       "      <td>695</td>\n",
       "      <td>730</td>\n",
       "      <td>-731</td>\n",
       "    </tr>\n",
       "  </tbody>\n",
       "</table>\n",
       "</div>"
      ],
      "text/plain": [
       "   Enero  Febrero  Marzo  Abril  Mayo  Junio  Julio  Agosto Septiembre  \\\n",
       "0   -760      343    265   -624  -390   -796    601    -780       -491   \n",
       "1    223      491   -397   -123     6   -115    157    -741       -951   \n",
       "2   -872     -913    558    278   544   -223    607    -113        348   \n",
       "3    111     -842    730   -761   158   -963   -290    -669        191   \n",
       "4    919      111   -688     15   395      9    553     297       -302   \n",
       "\n",
       "  Octubre  Noviembre  Diciembre  \n",
       "0     645       -248        714  \n",
       "1     267         14       -596  \n",
       "2     576       -977        195  \n",
       "3     130        170       -274  \n",
       "4     695        730       -731  "
      ]
     },
     "execution_count": 4,
     "metadata": {},
     "output_type": "execute_result"
    }
   ],
   "source": [
    "import pandas as pd\n",
    "\n",
    "d = pd.read_csv('finanzas2020[1].csv', header=0, sep= '\\t')\n",
    "d.head()"
   ]
  },
  {
   "cell_type": "code",
   "execution_count": 5,
   "id": "7c627400",
   "metadata": {},
   "outputs": [
    {
     "data": {
      "text/plain": [
       "Enero                                                     11523\n",
       "Febrero                                                      39\n",
       "Marzo                                                     -7969\n",
       "Abril                                                    -18933\n",
       "Mayo                                                      10304\n",
       "Junio                                                     -1477\n",
       "Julio                                                      7698\n",
       "Agosto                                                    -8735\n",
       "Septiembre    -491-951348191-302-838487-492254-929-361421-28...\n",
       "Octubre       645267576130695-975647152-578-652995215-297-28...\n",
       "Noviembre                                                  1157\n",
       "Diciembre                                                 -3044\n",
       "dtype: object"
      ]
     },
     "execution_count": 5,
     "metadata": {},
     "output_type": "execute_result"
    }
   ],
   "source": [
    "# En este caso no suma las columnas correctamente por que tiene valores erroneos en algunas columnas, vamos a solucionarlo\n",
    "d.sum()"
   ]
  },
  {
   "cell_type": "code",
   "execution_count": 6,
   "id": "7b44f5b8",
   "metadata": {},
   "outputs": [],
   "source": [
    "# Cambiamos el los valores de las columnas a numéricos para que convierta los valores de tipo string a numérico\n",
    "# el parámetro 'coerce' es para que cuando se encuentre un valor que no pueda convertir a numérico lo convierta en NaN\n",
    "d = d.apply(pd.to_numeric, errors='coerce')\n",
    "d = d.fillna(0) # aqui convertimos todos los valores NaN a 0"
   ]
  },
  {
   "cell_type": "code",
   "execution_count": 7,
   "id": "d0c4d7c8",
   "metadata": {},
   "outputs": [
    {
     "data": {
      "text/html": [
       "<div>\n",
       "<style scoped>\n",
       "    .dataframe tbody tr th:only-of-type {\n",
       "        vertical-align: middle;\n",
       "    }\n",
       "\n",
       "    .dataframe tbody tr th {\n",
       "        vertical-align: top;\n",
       "    }\n",
       "\n",
       "    .dataframe thead th {\n",
       "        text-align: right;\n",
       "    }\n",
       "</style>\n",
       "<table border=\"1\" class=\"dataframe\">\n",
       "  <thead>\n",
       "    <tr style=\"text-align: right;\">\n",
       "      <th></th>\n",
       "      <th>Enero</th>\n",
       "      <th>Febrero</th>\n",
       "      <th>Marzo</th>\n",
       "      <th>Abril</th>\n",
       "      <th>Mayo</th>\n",
       "      <th>Junio</th>\n",
       "      <th>Julio</th>\n",
       "      <th>Agosto</th>\n",
       "      <th>Septiembre</th>\n",
       "      <th>Octubre</th>\n",
       "      <th>Noviembre</th>\n",
       "      <th>Diciembre</th>\n",
       "    </tr>\n",
       "  </thead>\n",
       "  <tbody>\n",
       "    <tr>\n",
       "      <th>count</th>\n",
       "      <td>100.000000</td>\n",
       "      <td>100.000000</td>\n",
       "      <td>100.000000</td>\n",
       "      <td>100.000000</td>\n",
       "      <td>100.000000</td>\n",
       "      <td>100.000000</td>\n",
       "      <td>100.000000</td>\n",
       "      <td>100.000000</td>\n",
       "      <td>100.000000</td>\n",
       "      <td>100.000000</td>\n",
       "      <td>100.000000</td>\n",
       "      <td>100.000000</td>\n",
       "    </tr>\n",
       "    <tr>\n",
       "      <th>mean</th>\n",
       "      <td>115.230000</td>\n",
       "      <td>0.390000</td>\n",
       "      <td>-79.690000</td>\n",
       "      <td>-189.330000</td>\n",
       "      <td>103.040000</td>\n",
       "      <td>-14.770000</td>\n",
       "      <td>76.980000</td>\n",
       "      <td>-87.350000</td>\n",
       "      <td>-109.480000</td>\n",
       "      <td>34.120000</td>\n",
       "      <td>11.570000</td>\n",
       "      <td>-30.440000</td>\n",
       "    </tr>\n",
       "    <tr>\n",
       "      <th>std</th>\n",
       "      <td>545.948842</td>\n",
       "      <td>573.923743</td>\n",
       "      <td>585.916595</td>\n",
       "      <td>538.862139</td>\n",
       "      <td>507.166817</td>\n",
       "      <td>560.952596</td>\n",
       "      <td>533.468164</td>\n",
       "      <td>559.822399</td>\n",
       "      <td>545.570288</td>\n",
       "      <td>568.993623</td>\n",
       "      <td>583.819006</td>\n",
       "      <td>568.313424</td>\n",
       "    </tr>\n",
       "    <tr>\n",
       "      <th>min</th>\n",
       "      <td>-966.000000</td>\n",
       "      <td>-989.000000</td>\n",
       "      <td>-979.000000</td>\n",
       "      <td>-960.000000</td>\n",
       "      <td>-981.000000</td>\n",
       "      <td>-978.000000</td>\n",
       "      <td>-994.000000</td>\n",
       "      <td>-987.000000</td>\n",
       "      <td>-980.000000</td>\n",
       "      <td>-988.000000</td>\n",
       "      <td>-977.000000</td>\n",
       "      <td>-991.000000</td>\n",
       "    </tr>\n",
       "    <tr>\n",
       "      <th>25%</th>\n",
       "      <td>-359.000000</td>\n",
       "      <td>-475.000000</td>\n",
       "      <td>-586.500000</td>\n",
       "      <td>-666.500000</td>\n",
       "      <td>-368.000000</td>\n",
       "      <td>-476.750000</td>\n",
       "      <td>-292.250000</td>\n",
       "      <td>-580.500000</td>\n",
       "      <td>-525.250000</td>\n",
       "      <td>-481.000000</td>\n",
       "      <td>-539.750000</td>\n",
       "      <td>-538.000000</td>\n",
       "    </tr>\n",
       "    <tr>\n",
       "      <th>50%</th>\n",
       "      <td>169.500000</td>\n",
       "      <td>-0.500000</td>\n",
       "      <td>-159.000000</td>\n",
       "      <td>-212.500000</td>\n",
       "      <td>151.000000</td>\n",
       "      <td>-50.000000</td>\n",
       "      <td>91.500000</td>\n",
       "      <td>-163.000000</td>\n",
       "      <td>-139.500000</td>\n",
       "      <td>71.500000</td>\n",
       "      <td>44.000000</td>\n",
       "      <td>0.500000</td>\n",
       "    </tr>\n",
       "    <tr>\n",
       "      <th>75%</th>\n",
       "      <td>541.750000</td>\n",
       "      <td>442.500000</td>\n",
       "      <td>390.750000</td>\n",
       "      <td>235.750000</td>\n",
       "      <td>539.500000</td>\n",
       "      <td>472.750000</td>\n",
       "      <td>528.250000</td>\n",
       "      <td>367.250000</td>\n",
       "      <td>348.000000</td>\n",
       "      <td>499.750000</td>\n",
       "      <td>445.250000</td>\n",
       "      <td>426.250000</td>\n",
       "    </tr>\n",
       "    <tr>\n",
       "      <th>max</th>\n",
       "      <td>990.000000</td>\n",
       "      <td>992.000000</td>\n",
       "      <td>999.000000</td>\n",
       "      <td>897.000000</td>\n",
       "      <td>998.000000</td>\n",
       "      <td>989.000000</td>\n",
       "      <td>926.000000</td>\n",
       "      <td>955.000000</td>\n",
       "      <td>978.000000</td>\n",
       "      <td>995.000000</td>\n",
       "      <td>985.000000</td>\n",
       "      <td>980.000000</td>\n",
       "    </tr>\n",
       "  </tbody>\n",
       "</table>\n",
       "</div>"
      ],
      "text/plain": [
       "            Enero     Febrero       Marzo       Abril        Mayo       Junio  \\\n",
       "count  100.000000  100.000000  100.000000  100.000000  100.000000  100.000000   \n",
       "mean   115.230000    0.390000  -79.690000 -189.330000  103.040000  -14.770000   \n",
       "std    545.948842  573.923743  585.916595  538.862139  507.166817  560.952596   \n",
       "min   -966.000000 -989.000000 -979.000000 -960.000000 -981.000000 -978.000000   \n",
       "25%   -359.000000 -475.000000 -586.500000 -666.500000 -368.000000 -476.750000   \n",
       "50%    169.500000   -0.500000 -159.000000 -212.500000  151.000000  -50.000000   \n",
       "75%    541.750000  442.500000  390.750000  235.750000  539.500000  472.750000   \n",
       "max    990.000000  992.000000  999.000000  897.000000  998.000000  989.000000   \n",
       "\n",
       "            Julio      Agosto  Septiembre     Octubre   Noviembre   Diciembre  \n",
       "count  100.000000  100.000000  100.000000  100.000000  100.000000  100.000000  \n",
       "mean    76.980000  -87.350000 -109.480000   34.120000   11.570000  -30.440000  \n",
       "std    533.468164  559.822399  545.570288  568.993623  583.819006  568.313424  \n",
       "min   -994.000000 -987.000000 -980.000000 -988.000000 -977.000000 -991.000000  \n",
       "25%   -292.250000 -580.500000 -525.250000 -481.000000 -539.750000 -538.000000  \n",
       "50%     91.500000 -163.000000 -139.500000   71.500000   44.000000    0.500000  \n",
       "75%    528.250000  367.250000  348.000000  499.750000  445.250000  426.250000  \n",
       "max    926.000000  955.000000  978.000000  995.000000  985.000000  980.000000  "
      ]
     },
     "execution_count": 7,
     "metadata": {},
     "output_type": "execute_result"
    }
   ],
   "source": [
    "d.describe()"
   ]
  },
  {
   "cell_type": "code",
   "execution_count": 8,
   "id": "7d8ae4ec",
   "metadata": {},
   "outputs": [
    {
     "data": {
      "text/plain": [
       "Enero         11523.0\n",
       "Febrero          39.0\n",
       "Marzo         -7969.0\n",
       "Abril        -18933.0\n",
       "Mayo          10304.0\n",
       "Junio         -1477.0\n",
       "Julio          7698.0\n",
       "Agosto        -8735.0\n",
       "Septiembre   -10948.0\n",
       "Octubre        3412.0\n",
       "Noviembre      1157.0\n",
       "Diciembre     -3044.0\n",
       "dtype: float64"
      ]
     },
     "execution_count": 8,
     "metadata": {},
     "output_type": "execute_result"
    }
   ],
   "source": [
    "d.sum()"
   ]
  },
  {
   "cell_type": "code",
   "execution_count": 9,
   "id": "34f0435f",
   "metadata": {},
   "outputs": [],
   "source": [
    "suma = d.sum()"
   ]
  },
  {
   "cell_type": "code",
   "execution_count": 10,
   "id": "20a71e2b",
   "metadata": {},
   "outputs": [
    {
     "data": {
      "text/plain": [
       "-16973.0"
      ]
     },
     "execution_count": 10,
     "metadata": {},
     "output_type": "execute_result"
    }
   ],
   "source": [
    "suma.sum()"
   ]
  },
  {
   "cell_type": "code",
   "execution_count": 10,
   "id": "04d8daea",
   "metadata": {},
   "outputs": [
    {
     "data": {
      "text/plain": [
       "-18933.0"
      ]
     },
     "execution_count": 10,
     "metadata": {},
     "output_type": "execute_result"
    }
   ],
   "source": [
    "# Mes en el que más se ha gastado (Abril)\n",
    "suma.min()"
   ]
  },
  {
   "cell_type": "code",
   "execution_count": 11,
   "id": "a1ddb124",
   "metadata": {},
   "outputs": [
    {
     "data": {
      "text/plain": [
       "11523.0"
      ]
     },
     "execution_count": 11,
     "metadata": {},
     "output_type": "execute_result"
    }
   ],
   "source": [
    "# Mes en el que mas se ha ahorrado (Enero)\n",
    "suma.max()"
   ]
  },
  {
   "cell_type": "code",
   "execution_count": 52,
   "id": "61fbea90",
   "metadata": {},
   "outputs": [],
   "source": [
    "g = (d[d<0])"
   ]
  },
  {
   "cell_type": "code",
   "execution_count": 53,
   "id": "48eb3e87",
   "metadata": {},
   "outputs": [
    {
     "name": "stdout",
     "output_type": "stream",
     "text": [
      "    Enero  Febrero  Marzo  Abril   Mayo  Junio  Julio  Agosto  Septiembre  \\\n",
      "0  -760.0      NaN    NaN -624.0 -390.0 -796.0    NaN  -780.0      -491.0   \n",
      "1     NaN      NaN -397.0 -123.0    NaN -115.0    NaN  -741.0      -951.0   \n",
      "2  -872.0   -913.0    NaN    NaN    NaN -223.0    NaN  -113.0         NaN   \n",
      "3     NaN   -842.0    NaN -761.0    NaN -963.0 -290.0  -669.0         NaN   \n",
      "4     NaN      NaN -688.0    NaN    NaN    NaN    NaN     NaN      -302.0   \n",
      "..    ...      ...    ...    ...    ...    ...    ...     ...         ...   \n",
      "95 -652.0      NaN  -65.0    NaN -593.0  -72.0 -140.0  -159.0      -581.0   \n",
      "96    NaN   -905.0 -405.0    NaN -444.0 -978.0 -285.0  -346.0         NaN   \n",
      "97 -380.0      NaN -790.0    NaN  -59.0 -743.0 -296.0     NaN      -767.0   \n",
      "98    NaN    -44.0 -271.0    NaN  -55.0 -699.0    NaN  -203.0      -792.0   \n",
      "99    NaN   -221.0    NaN -960.0 -303.0 -384.0    NaN   -11.0      -456.0   \n",
      "\n",
      "    Octubre  Noviembre  Diciembre  \n",
      "0       NaN     -248.0        NaN  \n",
      "1       NaN        NaN     -596.0  \n",
      "2       NaN     -977.0        NaN  \n",
      "3       NaN        NaN     -274.0  \n",
      "4       NaN        NaN     -731.0  \n",
      "..      ...        ...        ...  \n",
      "95      NaN        NaN        NaN  \n",
      "96   -363.0        NaN     -971.0  \n",
      "97      NaN     -116.0     -873.0  \n",
      "98   -848.0        NaN     -378.0  \n",
      "99      NaN        NaN        NaN  \n",
      "\n",
      "[100 rows x 12 columns]\n"
     ]
    }
   ],
   "source": [
    "print(g)"
   ]
  },
  {
   "cell_type": "code",
   "execution_count": 54,
   "id": "5d9606f5",
   "metadata": {},
   "outputs": [
    {
     "data": {
      "text/plain": [
       "Enero        -18162.0\n",
       "Febrero      -24398.0\n",
       "Marzo        -29690.0\n",
       "Abril        -34133.0\n",
       "Mayo         -17200.0\n",
       "Junio        -24197.0\n",
       "Julio        -18992.0\n",
       "Agosto       -29013.0\n",
       "Septiembre   -29151.0\n",
       "Octubre      -22957.0\n",
       "Noviembre    -24180.0\n",
       "Diciembre    -25861.0\n",
       "dtype: float64"
      ]
     },
     "execution_count": 54,
     "metadata": {},
     "output_type": "execute_result"
    }
   ],
   "source": [
    "g.sum()"
   ]
  },
  {
   "cell_type": "code",
   "execution_count": 55,
   "id": "80191b32",
   "metadata": {},
   "outputs": [],
   "source": [
    "gastos = g.sum()"
   ]
  },
  {
   "cell_type": "code",
   "execution_count": 56,
   "id": "1fb3f9c9",
   "metadata": {},
   "outputs": [
    {
     "data": {
      "text/plain": [
       "-297934.0"
      ]
     },
     "execution_count": 56,
     "metadata": {},
     "output_type": "execute_result"
    }
   ],
   "source": [
    "# Suma de los gastos de todo el año \n",
    "gastos.sum()"
   ]
  },
  {
   "cell_type": "code",
   "execution_count": 57,
   "id": "0193bd8e",
   "metadata": {},
   "outputs": [
    {
     "data": {
      "text/plain": [
       "-24827.833333333332"
      ]
     },
     "execution_count": 57,
     "metadata": {},
     "output_type": "execute_result"
    }
   ],
   "source": [
    "# Media de los gastos de todo el año\n",
    "gastos.mean()"
   ]
  },
  {
   "cell_type": "code",
   "execution_count": 58,
   "id": "05b43399",
   "metadata": {},
   "outputs": [
    {
     "name": "stdout",
     "output_type": "stream",
     "text": [
      "    Enero  Febrero  Marzo  Abril   Mayo  Junio  Julio  Agosto  Septiembre  \\\n",
      "0     NaN    343.0  265.0    NaN    NaN    NaN  601.0     NaN         NaN   \n",
      "1   223.0    491.0    NaN    NaN    6.0    NaN  157.0     NaN         NaN   \n",
      "2     NaN      NaN  558.0  278.0  544.0    NaN  607.0     NaN       348.0   \n",
      "3   111.0      NaN  730.0    NaN  158.0    NaN    NaN     NaN       191.0   \n",
      "4   919.0    111.0    NaN   15.0  395.0    9.0  553.0   297.0         NaN   \n",
      "..    ...      ...    ...    ...    ...    ...    ...     ...         ...   \n",
      "95    NaN    233.0    NaN  431.0    NaN    NaN    NaN     NaN         NaN   \n",
      "96  777.0      NaN    NaN  110.0    NaN    NaN    NaN     NaN       207.0   \n",
      "97    NaN    946.0    NaN    9.0    NaN    NaN    NaN   321.0         NaN   \n",
      "98  244.0      NaN    NaN  462.0    NaN    NaN  674.0     NaN         NaN   \n",
      "99  126.0      NaN  290.0    NaN    NaN    NaN  506.0     NaN         NaN   \n",
      "\n",
      "    Octubre  Noviembre  Diciembre  \n",
      "0     645.0        NaN      714.0  \n",
      "1     267.0       14.0        NaN  \n",
      "2     576.0        NaN      195.0  \n",
      "3     130.0      170.0        NaN  \n",
      "4     695.0      730.0        NaN  \n",
      "..      ...        ...        ...  \n",
      "95    771.0      191.0      313.0  \n",
      "96      NaN      696.0        NaN  \n",
      "97    944.0        NaN        NaN  \n",
      "98      NaN      263.0        NaN  \n",
      "99    268.0      630.0      271.0  \n",
      "\n",
      "[100 rows x 12 columns]\n"
     ]
    }
   ],
   "source": [
    "i = (d[d>0])\n",
    "print(i)"
   ]
  },
  {
   "cell_type": "code",
   "execution_count": 59,
   "id": "c020f32f",
   "metadata": {},
   "outputs": [
    {
     "data": {
      "text/plain": [
       "Enero         29685.0\n",
       "Febrero       24437.0\n",
       "Marzo         21721.0\n",
       "Abril         15200.0\n",
       "Mayo          27504.0\n",
       "Junio         22720.0\n",
       "Julio         26690.0\n",
       "Agosto        20278.0\n",
       "Septiembre    18203.0\n",
       "Octubre       26369.0\n",
       "Noviembre     25337.0\n",
       "Diciembre     22817.0\n",
       "dtype: float64"
      ]
     },
     "execution_count": 59,
     "metadata": {},
     "output_type": "execute_result"
    }
   ],
   "source": [
    "i.sum()"
   ]
  },
  {
   "cell_type": "code",
   "execution_count": 60,
   "id": "c71a99f9",
   "metadata": {},
   "outputs": [],
   "source": [
    "ingresos = i.sum()"
   ]
  },
  {
   "cell_type": "code",
   "execution_count": 61,
   "id": "263dfdc7",
   "metadata": {},
   "outputs": [
    {
     "data": {
      "text/plain": [
       "23413.416666666668"
      ]
     },
     "execution_count": 61,
     "metadata": {},
     "output_type": "execute_result"
    }
   ],
   "source": [
    "# Media de los ingresos de todo el año\n",
    "ingresos.mean()"
   ]
  },
  {
   "cell_type": "code",
   "execution_count": 62,
   "id": "9a6c5db4",
   "metadata": {},
   "outputs": [
    {
     "data": {
      "text/plain": [
       "280961.0"
      ]
     },
     "execution_count": 62,
     "metadata": {},
     "output_type": "execute_result"
    }
   ],
   "source": [
    "# Suma de los ingresos de todo el año\n",
    "ingresos.sum()"
   ]
  },
  {
   "cell_type": "code",
   "execution_count": 67,
   "id": "cd8d80be",
   "metadata": {},
   "outputs": [],
   "source": [
    "import matplotlib.pyplot as plt\n",
    "import numpy as np"
   ]
  },
  {
   "cell_type": "code",
   "execution_count": 64,
   "id": "61dbb6cf",
   "metadata": {},
   "outputs": [],
   "source": [
    "meses = d.columns"
   ]
  },
  {
   "cell_type": "code",
   "execution_count": 82,
   "id": "610cf4c1",
   "metadata": {},
   "outputs": [
    {
     "data": {
      "image/png": "[encoded data removed]",
      "text/plain": [
       "<Figure size 936x360 with 1 Axes>"
      ]
     },
     "metadata": {
      "needs_background": "light"
     },
     "output_type": "display_data"
    }
   ],
   "source": [
    "plt.figure(figsize=(13,5))\n",
    "plt.bar(meses, ingresos)\n",
    "plt.title(\"Ingresos a lo largo del año\")\n",
    "plt.xlabel('Meses')\n",
    "plt.ylabel('Ingresos')\n",
    "plt.show()"
   ]
  },
  {
   "cell_type": "code",
   "execution_count": 107,
   "id": "21a97a3e",
   "metadata": {},
   "outputs": [
    {
     "name": "stdout",
     "output_type": "stream",
     "text": [
      "He leido el fichero sin problemas. Lo cierro y termino\n"
     ]
    }
   ],
   "source": [
    "try:\n",
    "    file = open('finanzas2020[1].csv')\n",
    "    lines = file.readlines()\n",
    "except IOError as err:\n",
    "    print(\"No encuentro el fichero o no puedo leerlo. Error: \", err)\n",
    "else:\n",
    "    print(\"He leido el fichero sin problemas. Lo cierro y termino\")\n",
    "    file.close()"
   ]
  },
  {
   "cell_type": "code",
   "execution_count": 113,
   "id": "272e6d6b",
   "metadata": {},
   "outputs": [
    {
     "name": "stdout",
     "output_type": "stream",
     "text": [
      "El número de columnas es:  12\n",
      "Coincide el número de columnas con los meses del año\n"
     ]
    }
   ],
   "source": [
    "len_column = len(d.columns)\n",
    "class Error(Exception):\n",
    "    pass\n",
    "\n",
    "class ValorIncorrecto(Error):\n",
    "    pass\n",
    "    \n",
    "try:\n",
    "    if len_column < 12 or len_column > 12:\n",
    "        raise ValorIncorrecto\n",
    "    else:\n",
    "        print(\"El número de columnas es: \", len_column)\n",
    "        print('Coincide el número de columnas con los meses del año')\n",
    "except ValorIncorrecto:\n",
    "    print('No coincide el número de columnas con el de meses del año')"
   ]
  },
  {
   "cell_type": "code",
   "execution_count": null,
   "id": "aa87e5c3",
   "metadata": {},
   "outputs": [],
   "source": []
  }
 ],
 "metadata": {
  "kernelspec": {
   "display_name": "Python 3 (ipykernel)",
   "language": "python",
   "name": "python3"
  },
  "language_info": {
   "codemirror_mode": {
    "name": "ipython",
    "version": 3
   },
   "file_extension": ".py",
   "mimetype": "text/x-python",
   "name": "python",
   "nbconvert_exporter": "python",
   "pygments_lexer": "ipython3",
   "version": "3.8.10"
  }
 },
 "nbformat": 4,
 "nbformat_minor": 5
}
